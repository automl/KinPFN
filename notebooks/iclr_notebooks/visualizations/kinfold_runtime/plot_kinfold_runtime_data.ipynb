{
 "cells": [
  {
   "cell_type": "code",
   "execution_count": null,
   "metadata": {},
   "outputs": [],
   "source": [
    "import pandas as pd\n",
    "import matplotlib.pyplot as plt\n",
    "import numpy as np\n",
    "from matplotlib.ticker import FuncFormatter\n",
    "\n",
    "data = pd.read_csv('./combined_metrics.csv')\n",
    "data['avg_total_cpu_time'] = data['avg_total_cpu_time'] / 60\n",
    "data['std_total_cpu_time'] = data['std_total_cpu_time'] / 60\n",
    "\n",
    "sequence_lengths = data['length'].unique()\n",
    "num_simulations = data['num_simulations'].unique()\n",
    "\n",
    "fig, ax = plt.subplots(figsize=(11.7, 6))\n",
    "fig.set_dpi(300)\n",
    "ax.grid(\n",
    "    True, which=\"major\", axis=\"y\", color=\"gray\", linestyle=\"--\", linewidth=0.5, zorder=-10\n",
    ")\n",
    "\n",
    "bar_width = 0.19\n",
    "positions = np.arange(len(sequence_lengths))\n",
    "\n",
    "colors = plt.cm.viridis(np.linspace(0.2, 0.8, len(num_simulations)))\n",
    "\n",
    "for i, (sim_count, color) in enumerate(zip(num_simulations, colors)):\n",
    "    filtered_data = data[data['num_simulations'] == sim_count]\n",
    "    \n",
    "    means = filtered_data['avg_total_cpu_time']\n",
    "    stds = [np.zeros(len(filtered_data)), filtered_data['std_total_cpu_time']]\n",
    "    \n",
    "    bar_positions = positions + (i * bar_width)\n",
    "    \n",
    "    ax.bar(bar_positions, means, bar_width, yerr=stds, capsize=5, label=f'{sim_count} Simulations', color=color, zorder=10)\n",
    "\n",
    "ax.set_xticks(positions + (len(num_simulations) * bar_width / 2) - bar_width / 2)\n",
    "ax.set_xticklabels(sequence_lengths, fontsize=12)\n",
    "ax.set_xlabel('RNA Sequence Length (in Nucleotides)', fontsize=14)\n",
    "\n",
    "ax.set_ylabel('Kinfold CPU Time (in Minutes)', fontsize=14)\n",
    "ax.set_yscale('log')\n",
    "\n",
    "ticks = [10**i for i in range(-2, 4)]\n",
    "ax.set_yticks(ticks)\n",
    "\n",
    "ax.get_yaxis().set_major_formatter(FuncFormatter(lambda y, _: '{:g}'.format(y)))\n",
    "\n",
    "ax.legend(title='Avg. Kinfold CPU Time for', loc='upper left', bbox_to_anchor=(1, 1), fontsize=12)\n",
    "\n",
    "plt.tight_layout(rect=[0, 0, 0.85, 1])\n",
    "plt.show()\n"
   ]
  }
 ],
 "metadata": {
  "kernelspec": {
   "display_name": "pfn4rnaKinetics",
   "language": "python",
   "name": "python3"
  },
  "language_info": {
   "codemirror_mode": {
    "name": "ipython",
    "version": 3
   },
   "file_extension": ".py",
   "mimetype": "text/x-python",
   "name": "python",
   "nbconvert_exporter": "python",
   "pygments_lexer": "ipython3",
   "version": "3.9.20"
  }
 },
 "nbformat": 4,
 "nbformat_minor": 2
}
