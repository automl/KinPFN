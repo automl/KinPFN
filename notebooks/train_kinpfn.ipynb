{
 "cells": [
  {
   "cell_type": "code",
   "execution_count": 1,
   "metadata": {},
   "outputs": [],
   "source": [
    "import os\n",
    "import torch\n",
    "\n",
    "from kinpfn.model import KINPFN\n",
    "from kinpfn.prior_kinpfn import (\n",
    "    get_batch_multi_modal_distribution_prior,\n",
    ")"
   ]
  },
  {
   "cell_type": "code",
   "execution_count": 2,
   "metadata": {},
   "outputs": [],
   "source": [
    "# Final KinPFN Training Parameters\n",
    "hps = None\n",
    "num_features = 1\n",
    "seq_len = 100 # Reduced for testing, Final Model: 1400\n",
    "epochs = 10 # Reduced for testing, Final Model: 1000\n",
    "buckets = 1000\n",
    "steps = 86\n",
    "batch_size = 10 # Reduced for testing, Final Model: 50\n",
    "lr = 2.5588748050825984e-05\n",
    "emsize = 256\n",
    "nhead = 4\n",
    "nhid = 512\n",
    "nlayers = 8\n",
    "dropout = 0.0\n",
    "weight_decay = 0.0\n",
    "dataset_name = \"kinpfn_multi_modal_gaussian_prior\""
   ]
  },
  {
   "cell_type": "code",
   "execution_count": null,
   "metadata": {},
   "outputs": [],
   "source": [
    "kinpfn = KINPFN(\n",
    "    dataset_name=dataset_name,\n",
    "    seq_len=seq_len,\n",
    "    epochs=epochs,\n",
    "    buckets=buckets,\n",
    "    steps=steps,\n",
    "    batch_size=batch_size,\n",
    "    lr=lr,\n",
    "    emsize=emsize,\n",
    "    nhead=nhead,\n",
    "    nhid=nhid,\n",
    "    nlayers=nlayers,\n",
    "    dropout=dropout,\n",
    "    weight_decay=weight_decay,\n",
    ")\n",
    "trained_model = kinpfn.model\n",
    "\n",
    "if trained_model is not None:\n",
    "    print(\"KinPFN Model loaded!\")\n",
    "else:\n",
    "    print(\"No loaded model! Please train a new model.\")\n",
    "    trained_model = kinpfn.model\n",
    "    train_results = kinpfn.train_new_model(\n",
    "        get_batch_function=get_batch_multi_modal_distribution_prior\n",
    "    )\n",
    "    trained_model = train_results[2]\n",
    "    model_path = \"../models/\"\n",
    "    torch.save(\n",
    "        trained_model,\n",
    "        os.path.join(\n",
    "            model_path,\n",
    "            f\"{dataset_name}_model_{seq_len}_{epochs}_{buckets}_{steps}_{batch_size}_{lr}_{emsize}_{nhead}_{nhid}_{nlayers}_{dropout}_{weight_decay}.pt\",\n",
    "        ),\n",
    "    )"
   ]
  },
  {
   "cell_type": "code",
   "execution_count": null,
   "metadata": {},
   "outputs": [],
   "source": [
    "print(trained_model)"
   ]
  }
 ],
 "metadata": {
  "kernelspec": {
   "display_name": "pnf_env",
   "language": "python",
   "name": "python3"
  },
  "language_info": {
   "codemirror_mode": {
    "name": "ipython",
    "version": 3
   },
   "file_extension": ".py",
   "mimetype": "text/x-python",
   "name": "python",
   "nbconvert_exporter": "python",
   "pygments_lexer": "ipython3",
   "version": "3.9.20"
  }
 },
 "nbformat": 4,
 "nbformat_minor": 2
}
